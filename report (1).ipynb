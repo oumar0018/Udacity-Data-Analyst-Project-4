{
 "cells": [
  {
   "cell_type": "markdown",
   "metadata": {
    "collapsed": false
   },
   "source": [
    "### Effects of Houses Characteristics and location on Their Prices\n",
    "#### Investigation Overview\n",
    "\n",
    "In this investigation, I wanted to look at the characteristics of houses that could be used to predict their prices. The main focus was on the area (size) of the house, number of bedrooms, number of bathrooms and style of the house.\n",
    "\n",
    "Dataset Overview\n",
    "\n",
    "The data consisted of prices and attributes of approximately 6028 houses located at three different neighborhoods (A, B and C). The attributes included the house_id, area, number of bedrooms, number of bathrooms and style. The house_id variable was converted from int to string type because it is solely for house identification and therefore not going to be used for computations.\n",
    "\n",
    "### Distribution of House Prices\n",
    "\n",
    "House prices in the dataset take on a very large range of values, from about $12,167 at the lowest, to about $3,684,602 at the highest. Plotted on a logarithmic scale, the distribution of diamond prices takes on a multimodal shape.\n",
    "![Price](price1.png)\n",
    "\n",
    "### Distribution of House Areas\n",
    "The distribution of the area of the houses also seems to be multimodal with most of the areas between 1000 and 2500 having the first peak between 0 and 500. The second peak between 1000 and 2500 and the last one between 3000 and 4000.\n",
    "![Area Distribution](area.png)\n",
    "\n",
    "### Price Vs Area (Size of the house)\n",
    "Plotting the Price and Area gave almost a linear relationship. The most expensive houses has an area of 600 - 7000, although some houses of the size tend to be way cheaper than others.\n",
    "![Area and Price](pa.png)\n",
    "\n",
    "### Price and House Size (Area) by Neighborhood\n",
    "There exist an exreme relationship between the price of a house and the neighborhood, because as the neighborhood changes, the price of a house changes drastically. i.e the difference in price between houses in Neighborhodd B is extremely higher than those in Neighborhood A and C despite having the same size (area)\n",
    "\n",
    "![Price n Size by Neighborhood](pan.png)\n",
    "\n",
    "### Price and House Size (Area) by Style\n",
    "The relationship between style and price is also huge, as can be seen in the figure above, all the houses with higher price from around 1.5 million to above are victorian style, and all those below 500k are not victorian.\n",
    "\n",
    "![Title](pas.png)\n",
    "\n",
    "### Price and Neighborhood by Style\n",
    "Both Neighborhood and Style have a strong correlation with price, the victorian style houses are much more expensive than other styles, but if compared to area of the house, victorian style in area B is much more expensive than victorian style house in neighborhood A and C as in the figure below.\n",
    "\n",
    "![picture](pns.png)"
   ]
  },
  {
   "cell_type": "code",
   "execution_count": 0,
   "metadata": {
    "collapsed": false
   },
   "outputs": [
   ],
   "source": [
   ]
  }
 ],
 "metadata": {
  "kernelspec": {
   "display_name": "Python 3 (system-wide)",
   "language": "python",
   "metadata": {
    "cocalc": {
     "description": "Python 3 programming language",
     "priority": 100,
     "url": "https://www.python.org/"
    }
   },
   "name": "python3"
  },
  "language_info": {
   "codemirror_mode": {
    "name": "ipython",
    "version": 3
   },
   "file_extension": ".py",
   "mimetype": "text/x-python",
   "name": "python",
   "nbconvert_exporter": "python",
   "pygments_lexer": "ipython3",
   "version": "3.8.2"
  }
 },
 "nbformat": 4,
 "nbformat_minor": 4
}